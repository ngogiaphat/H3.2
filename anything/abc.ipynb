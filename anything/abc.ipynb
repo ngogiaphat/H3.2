{
 "cells": [
  {
   "cell_type": "code",
   "execution_count": null,
   "metadata": {},
   "outputs": [],
   "source": []
  },
  {
   "cell_type": "code",
   "execution_count": null,
   "metadata": {},
   "outputs": [],
   "source": [
    "import turtle\n",
    "polygon = turtle.Turtle()\n",
    " \n",
    "num_sides = 6\n",
    "side_length = 70\n",
    "angle = 360.0 / num_sides\n",
    " \n",
    "for i in range(num_sides):\n",
    "    polygon.forward(side_length)\n",
    "    polygon.right(angle)\n",
    "     \n",
    "turtle.done()"
   ]
  }
 ],
 "metadata": {
  "language_info": {
   "name": "python"
  },
  "orig_nbformat": 4
 },
 "nbformat": 4,
 "nbformat_minor": 2
}
