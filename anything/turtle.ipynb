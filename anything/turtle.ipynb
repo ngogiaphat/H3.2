{
 "cells": [
  {
   "cell_type": "code",
   "execution_count": 6,
   "metadata": {},
   "outputs": [
    {
     "name": "stdout",
     "output_type": "stream",
     "text": [
      "Unexpected exception formatting exception. Falling back to standard exception\n"
     ]
    },
    {
     "name": "stderr",
     "output_type": "stream",
     "text": [
      "Traceback (most recent call last):\n",
      "  File \"c:\\Users\\ngogi\\AppData\\Local\\Programs\\Python\\Python310\\lib\\site-packages\\IPython\\core\\interactiveshell.py\", line 3397, in run_code\n",
      "    exec(code_obj, self.user_global_ns, self.user_ns)\n",
      "  File \"C:\\Users\\ngogi\\AppData\\Local\\Temp\\ipykernel_6236\\1635224614.py\", line 1, in <cell line: 1>\n",
      "    import turtle   #Outside_In\n",
      "  File \"d:\\H3.2\\IUH Coder\\anything\\turtle.py\", line 3, in <module>\n",
      "    t = turtle.Pen()\n",
      "AttributeError: partially initialized module 'turtle' has no attribute 'Pen' (most likely due to a circular import)\n",
      "\n",
      "During handling of the above exception, another exception occurred:\n",
      "\n",
      "Traceback (most recent call last):\n",
      "  File \"c:\\Users\\ngogi\\AppData\\Local\\Programs\\Python\\Python310\\lib\\site-packages\\IPython\\core\\interactiveshell.py\", line 1992, in showtraceback\n",
      "    stb = self.InteractiveTB.structured_traceback(\n",
      "  File \"c:\\Users\\ngogi\\AppData\\Local\\Programs\\Python\\Python310\\lib\\site-packages\\IPython\\core\\ultratb.py\", line 1118, in structured_traceback\n",
      "    return FormattedTB.structured_traceback(\n",
      "  File \"c:\\Users\\ngogi\\AppData\\Local\\Programs\\Python\\Python310\\lib\\site-packages\\IPython\\core\\ultratb.py\", line 1012, in structured_traceback\n",
      "    return VerboseTB.structured_traceback(\n",
      "  File \"c:\\Users\\ngogi\\AppData\\Local\\Programs\\Python\\Python310\\lib\\site-packages\\IPython\\core\\ultratb.py\", line 865, in structured_traceback\n",
      "    formatted_exception = self.format_exception_as_a_whole(etype, evalue, etb, number_of_lines_of_context,\n",
      "  File \"c:\\Users\\ngogi\\AppData\\Local\\Programs\\Python\\Python310\\lib\\site-packages\\IPython\\core\\ultratb.py\", line 818, in format_exception_as_a_whole\n",
      "    frames.append(self.format_record(r))\n",
      "  File \"c:\\Users\\ngogi\\AppData\\Local\\Programs\\Python\\Python310\\lib\\site-packages\\IPython\\core\\ultratb.py\", line 736, in format_record\n",
      "    result += ''.join(_format_traceback_lines(frame_info.lines, Colors, self.has_colors, lvals))\n",
      "  File \"c:\\Users\\ngogi\\AppData\\Local\\Programs\\Python\\Python310\\lib\\site-packages\\stack_data\\utils.py\", line 145, in cached_property_wrapper\n",
      "    value = obj.__dict__[self.func.__name__] = self.func(obj)\n",
      "  File \"c:\\Users\\ngogi\\AppData\\Local\\Programs\\Python\\Python310\\lib\\site-packages\\stack_data\\core.py\", line 698, in lines\n",
      "    pieces = self.included_pieces\n",
      "  File \"c:\\Users\\ngogi\\AppData\\Local\\Programs\\Python\\Python310\\lib\\site-packages\\stack_data\\utils.py\", line 145, in cached_property_wrapper\n",
      "    value = obj.__dict__[self.func.__name__] = self.func(obj)\n",
      "  File \"c:\\Users\\ngogi\\AppData\\Local\\Programs\\Python\\Python310\\lib\\site-packages\\stack_data\\core.py\", line 649, in included_pieces\n",
      "    pos = scope_pieces.index(self.executing_piece)\n",
      "  File \"c:\\Users\\ngogi\\AppData\\Local\\Programs\\Python\\Python310\\lib\\site-packages\\stack_data\\utils.py\", line 145, in cached_property_wrapper\n",
      "    value = obj.__dict__[self.func.__name__] = self.func(obj)\n",
      "  File \"c:\\Users\\ngogi\\AppData\\Local\\Programs\\Python\\Python310\\lib\\site-packages\\stack_data\\core.py\", line 628, in executing_piece\n",
      "    return only(\n",
      "  File \"c:\\Users\\ngogi\\AppData\\Local\\Programs\\Python\\Python310\\lib\\site-packages\\executing\\executing.py\", line 164, in only\n",
      "    raise NotOneValueFound('Expected one value, found 0')\n",
      "executing.executing.NotOneValueFound: Expected one value, found 0\n"
     ]
    }
   ],
   "source": [
    "import turtle   #Outside_In\n",
    "import turtle\n",
    "import time\n",
    "import random\n",
    " \n",
    "print (\"This program draws shapes based on the number you enter in a uniform pattern.\")\n",
    "num_str = input(\"Enter the side number of the shape you want to draw: \")\n",
    "if num_str.isdigit():\n",
    "    squares = int(num_str)\n",
    " \n",
    "angle = 180 - 180*(squares-2)/squares\n",
    " \n",
    "turtle.up\n",
    " \n",
    "x = 0\n",
    "y = 0\n",
    "turtle.setpos(x, y)\n",
    " \n",
    " \n",
    "numshapes = 8\n",
    "for x in range(numshapes):\n",
    "    turtle.color(random.random(), random.random(), random.random())\n",
    "    x += 5\n",
    "    y += 5\n",
    "    turtle.forward(x)\n",
    "    turtle.left(y)\n",
    "    for i in range(squares):\n",
    "        turtle.begin_fill()\n",
    "        turtle.down()\n",
    "        turtle.forward(40)\n",
    "        turtle.left(angle)\n",
    "        turtle.forward(40)\n",
    "        print (turtle.pos())\n",
    "        turtle.up()\n",
    "        turtle.end_fill()\n",
    " \n",
    "time.sleep(11)\n",
    "turtle.bye()"
   ]
  },
  {
   "cell_type": "code",
   "execution_count": 5,
   "metadata": {},
   "outputs": [
    {
     "name": "stdout",
     "output_type": "stream",
     "text": [
      "Unexpected exception formatting exception. Falling back to standard exception\n"
     ]
    },
    {
     "name": "stderr",
     "output_type": "stream",
     "text": [
      "Traceback (most recent call last):\n",
      "  File \"c:\\Users\\ngogi\\AppData\\Local\\Programs\\Python\\Python310\\lib\\site-packages\\IPython\\core\\interactiveshell.py\", line 3397, in run_code\n",
      "    exec(code_obj, self.user_global_ns, self.user_ns)\n",
      "  File \"C:\\Users\\ngogi\\AppData\\Local\\Temp\\ipykernel_6236\\4203855174.py\", line 1, in <cell line: 1>\n",
      "    import turtle  #Inside_Out\n",
      "  File \"d:\\H3.2\\IUH Coder\\anything\\turtle.py\", line 3, in <module>\n",
      "    t = turtle.Pen()\n",
      "AttributeError: partially initialized module 'turtle' has no attribute 'Pen' (most likely due to a circular import)\n",
      "\n",
      "During handling of the above exception, another exception occurred:\n",
      "\n",
      "Traceback (most recent call last):\n",
      "  File \"c:\\Users\\ngogi\\AppData\\Local\\Programs\\Python\\Python310\\lib\\site-packages\\IPython\\core\\interactiveshell.py\", line 1992, in showtraceback\n",
      "    stb = self.InteractiveTB.structured_traceback(\n",
      "  File \"c:\\Users\\ngogi\\AppData\\Local\\Programs\\Python\\Python310\\lib\\site-packages\\IPython\\core\\ultratb.py\", line 1118, in structured_traceback\n",
      "    return FormattedTB.structured_traceback(\n",
      "  File \"c:\\Users\\ngogi\\AppData\\Local\\Programs\\Python\\Python310\\lib\\site-packages\\IPython\\core\\ultratb.py\", line 1012, in structured_traceback\n",
      "    return VerboseTB.structured_traceback(\n",
      "  File \"c:\\Users\\ngogi\\AppData\\Local\\Programs\\Python\\Python310\\lib\\site-packages\\IPython\\core\\ultratb.py\", line 865, in structured_traceback\n",
      "    formatted_exception = self.format_exception_as_a_whole(etype, evalue, etb, number_of_lines_of_context,\n",
      "  File \"c:\\Users\\ngogi\\AppData\\Local\\Programs\\Python\\Python310\\lib\\site-packages\\IPython\\core\\ultratb.py\", line 818, in format_exception_as_a_whole\n",
      "    frames.append(self.format_record(r))\n",
      "  File \"c:\\Users\\ngogi\\AppData\\Local\\Programs\\Python\\Python310\\lib\\site-packages\\IPython\\core\\ultratb.py\", line 736, in format_record\n",
      "    result += ''.join(_format_traceback_lines(frame_info.lines, Colors, self.has_colors, lvals))\n",
      "  File \"c:\\Users\\ngogi\\AppData\\Local\\Programs\\Python\\Python310\\lib\\site-packages\\stack_data\\utils.py\", line 145, in cached_property_wrapper\n",
      "    value = obj.__dict__[self.func.__name__] = self.func(obj)\n",
      "  File \"c:\\Users\\ngogi\\AppData\\Local\\Programs\\Python\\Python310\\lib\\site-packages\\stack_data\\core.py\", line 698, in lines\n",
      "    pieces = self.included_pieces\n",
      "  File \"c:\\Users\\ngogi\\AppData\\Local\\Programs\\Python\\Python310\\lib\\site-packages\\stack_data\\utils.py\", line 145, in cached_property_wrapper\n",
      "    value = obj.__dict__[self.func.__name__] = self.func(obj)\n",
      "  File \"c:\\Users\\ngogi\\AppData\\Local\\Programs\\Python\\Python310\\lib\\site-packages\\stack_data\\core.py\", line 649, in included_pieces\n",
      "    pos = scope_pieces.index(self.executing_piece)\n",
      "  File \"c:\\Users\\ngogi\\AppData\\Local\\Programs\\Python\\Python310\\lib\\site-packages\\stack_data\\utils.py\", line 145, in cached_property_wrapper\n",
      "    value = obj.__dict__[self.func.__name__] = self.func(obj)\n",
      "  File \"c:\\Users\\ngogi\\AppData\\Local\\Programs\\Python\\Python310\\lib\\site-packages\\stack_data\\core.py\", line 628, in executing_piece\n",
      "    return only(\n",
      "  File \"c:\\Users\\ngogi\\AppData\\Local\\Programs\\Python\\Python310\\lib\\site-packages\\executing\\executing.py\", line 164, in only\n",
      "    raise NotOneValueFound('Expected one value, found 0')\n",
      "executing.executing.NotOneValueFound: Expected one value, found 0\n"
     ]
    }
   ],
   "source": [
    "import turtle  #Inside_Out\n",
    "wn = turtle.Screen()\n",
    "wn.bgcolor(\"light green\")\n",
    "skk = turtle.Turtle()\n",
    "skk.color(\"blue\")\n",
    " \n",
    "def sqrfunc(size):\n",
    "    for i in range(4):\n",
    "        skk.fd(size)\n",
    "        skk.left(90)\n",
    "        size = size + 5\n",
    " \n",
    "sqrfunc(6)\n",
    "sqrfunc(26)\n",
    "sqrfunc(46)\n",
    "sqrfunc(66)\n",
    "sqrfunc(86)\n",
    "sqrfunc(106)"
   ]
  },
  {
   "cell_type": "code",
   "execution_count": 7,
   "metadata": {},
   "outputs": [
    {
     "ename": "ModuleNotFoundError",
     "evalue": "No module named 'turtlep'",
     "output_type": "error",
     "traceback": [
      "\u001b[1;31m---------------------------------------------------------------------------\u001b[0m",
      "\u001b[1;31mModuleNotFoundError\u001b[0m                       Traceback (most recent call last)",
      "\u001b[1;32md:\\H3.2\\IUH Coder\\anything\\turtle.ipynb Cell 3'\u001b[0m in \u001b[0;36m<cell line: 1>\u001b[1;34m()\u001b[0m\n\u001b[1;32m----> <a href='vscode-notebook-cell:/d%3A/H3.2/IUH%20Coder/anything/turtle.ipynb#ch0000005?line=0'>1</a>\u001b[0m \u001b[39mimport\u001b[39;00m \u001b[39mturtlep\u001b[39;00m\n\u001b[0;32m      <a href='vscode-notebook-cell:/d%3A/H3.2/IUH%20Coder/anything/turtle.ipynb#ch0000005?line=1'>2</a>\u001b[0m colors \u001b[39m=\u001b[39m [\u001b[39m'\u001b[39m\u001b[39mred\u001b[39m\u001b[39m'\u001b[39m, \u001b[39m'\u001b[39m\u001b[39mpurple\u001b[39m\u001b[39m'\u001b[39m, \u001b[39m'\u001b[39m\u001b[39mblue\u001b[39m\u001b[39m'\u001b[39m, \u001b[39m'\u001b[39m\u001b[39mgreen\u001b[39m\u001b[39m'\u001b[39m, \u001b[39m'\u001b[39m\u001b[39morange\u001b[39m\u001b[39m'\u001b[39m, \u001b[39m'\u001b[39m\u001b[39myellow\u001b[39m\u001b[39m'\u001b[39m]\n\u001b[0;32m      <a href='vscode-notebook-cell:/d%3A/H3.2/IUH%20Coder/anything/turtle.ipynb#ch0000005?line=2'>3</a>\u001b[0m t \u001b[39m=\u001b[39m turtle\u001b[39m.\u001b[39mPen()\n",
      "\u001b[1;31mModuleNotFoundError\u001b[0m: No module named 'turtlep'"
     ]
    }
   ],
   "source": [
    "import turtlep\n",
    "colors = ['red', 'purple', 'blue', 'green', 'orange', 'yellow']\n",
    "t = turtle.Pen()\n",
    "turtle.bgcolor('black')\n",
    "for x in range(360):\n",
    "    t.pencolor(colors[x%6])\n",
    "    t.width(x//100 + 1)\n",
    "    t.forward(x)\n",
    "    t.left(59)"
   ]
  },
  {
   "cell_type": "code",
   "execution_count": 1,
   "metadata": {},
   "outputs": [
    {
     "ename": "AttributeError",
     "evalue": "partially initialized module 'turtle' has no attribute 'Pen' (most likely due to a circular import)",
     "output_type": "error",
     "traceback": [
      "\u001b[1;31m---------------------------------------------------------------------------\u001b[0m",
      "\u001b[1;31mAttributeError\u001b[0m                            Traceback (most recent call last)",
      "\u001b[1;32md:\\H3.2\\IUH Coder\\anything\\turtle.ipynb Cell 4'\u001b[0m in \u001b[0;36m<cell line: 1>\u001b[1;34m()\u001b[0m\n\u001b[1;32m----> <a href='vscode-notebook-cell:/d%3A/H3.2/IUH%20Coder/anything/turtle.ipynb#ch0000003?line=0'>1</a>\u001b[0m \u001b[39mimport\u001b[39;00m \u001b[39mturtle\u001b[39;00m\n\u001b[0;32m      <a href='vscode-notebook-cell:/d%3A/H3.2/IUH%20Coder/anything/turtle.ipynb#ch0000003?line=1'>2</a>\u001b[0m polygon \u001b[39m=\u001b[39m turtle\u001b[39m.\u001b[39mTurtle()\n\u001b[0;32m      <a href='vscode-notebook-cell:/d%3A/H3.2/IUH%20Coder/anything/turtle.ipynb#ch0000003?line=3'>4</a>\u001b[0m num_sides \u001b[39m=\u001b[39m \u001b[39m6\u001b[39m\n",
      "File \u001b[1;32md:\\H3.2\\IUH Coder\\anything\\turtle.py:3\u001b[0m, in \u001b[0;36m<module>\u001b[1;34m\u001b[0m\n\u001b[0;32m      <a href='file:///d%3A/H3.2/IUH%20Coder/anything/turtle.py?line=0'>1</a>\u001b[0m \u001b[39mimport\u001b[39;00m \u001b[39mturtle\u001b[39;00m\n\u001b[0;32m      <a href='file:///d%3A/H3.2/IUH%20Coder/anything/turtle.py?line=1'>2</a>\u001b[0m colors \u001b[39m=\u001b[39m [\u001b[39m'\u001b[39m\u001b[39mred\u001b[39m\u001b[39m'\u001b[39m, \u001b[39m'\u001b[39m\u001b[39mpurple\u001b[39m\u001b[39m'\u001b[39m, \u001b[39m'\u001b[39m\u001b[39mblue\u001b[39m\u001b[39m'\u001b[39m, \u001b[39m'\u001b[39m\u001b[39mgreen\u001b[39m\u001b[39m'\u001b[39m, \u001b[39m'\u001b[39m\u001b[39morange\u001b[39m\u001b[39m'\u001b[39m, \u001b[39m'\u001b[39m\u001b[39myellow\u001b[39m\u001b[39m'\u001b[39m]\n\u001b[1;32m----> <a href='file:///d%3A/H3.2/IUH%20Coder/anything/turtle.py?line=2'>3</a>\u001b[0m t \u001b[39m=\u001b[39m turtle\u001b[39m.\u001b[39;49mPen()\n\u001b[0;32m      <a href='file:///d%3A/H3.2/IUH%20Coder/anything/turtle.py?line=3'>4</a>\u001b[0m turtle\u001b[39m.\u001b[39mbgcolor(\u001b[39m'\u001b[39m\u001b[39mblack\u001b[39m\u001b[39m'\u001b[39m)\n\u001b[0;32m      <a href='file:///d%3A/H3.2/IUH%20Coder/anything/turtle.py?line=4'>5</a>\u001b[0m \u001b[39mfor\u001b[39;00m x \u001b[39min\u001b[39;00m \u001b[39mrange\u001b[39m(\u001b[39m360\u001b[39m):\n",
      "\u001b[1;31mAttributeError\u001b[0m: partially initialized module 'turtle' has no attribute 'Pen' (most likely due to a circular import)"
     ]
    }
   ],
   "source": [
    "import turtle\n",
    "polygon = turtle.Turtle()\n",
    " \n",
    "num_sides = 6\n",
    "side_length = 70\n",
    "angle = 360.0 / num_sides\n",
    " \n",
    "for i in range(num_sides):\n",
    "    polygon.forward(side_length)\n",
    "    polygon.right(angle)\n",
    "     \n",
    "turtle.done()"
   ]
  },
  {
   "cell_type": "code",
   "execution_count": 4,
   "metadata": {},
   "outputs": [
    {
     "ename": "AttributeError",
     "evalue": "partially initialized module 'turtle' has no attribute 'Pen' (most likely due to a circular import)",
     "output_type": "error",
     "traceback": [
      "\u001b[1;31m---------------------------------------------------------------------------\u001b[0m",
      "\u001b[1;31mAttributeError\u001b[0m                            Traceback (most recent call last)",
      "\u001b[1;32md:\\H3.2\\IUH Coder\\anything\\turtle.ipynb Cell 5'\u001b[0m in \u001b[0;36m<cell line: 1>\u001b[1;34m()\u001b[0m\n\u001b[1;32m----> <a href='vscode-notebook-cell:/d%3A/H3.2/IUH%20Coder/anything/turtle.ipynb#ch0000006?line=0'>1</a>\u001b[0m \u001b[39mimport\u001b[39;00m \u001b[39mturtle\u001b[39;00m\n\u001b[0;32m      <a href='vscode-notebook-cell:/d%3A/H3.2/IUH%20Coder/anything/turtle.ipynb#ch0000006?line=1'>2</a>\u001b[0m polygon \u001b[39m=\u001b[39m turtle\u001b[39m.\u001b[39mTurtle()\n\u001b[0;32m      <a href='vscode-notebook-cell:/d%3A/H3.2/IUH%20Coder/anything/turtle.ipynb#ch0000006?line=3'>4</a>\u001b[0m num_sides \u001b[39m=\u001b[39m \u001b[39m6\u001b[39m\n",
      "File \u001b[1;32md:\\H3.2\\IUH Coder\\anything\\turtle.py:3\u001b[0m, in \u001b[0;36m<module>\u001b[1;34m\u001b[0m\n\u001b[0;32m      <a href='file:///d%3A/H3.2/IUH%20Coder/anything/turtle.py?line=0'>1</a>\u001b[0m \u001b[39mimport\u001b[39;00m \u001b[39mturtle\u001b[39;00m\n\u001b[0;32m      <a href='file:///d%3A/H3.2/IUH%20Coder/anything/turtle.py?line=1'>2</a>\u001b[0m colors \u001b[39m=\u001b[39m [\u001b[39m'\u001b[39m\u001b[39mred\u001b[39m\u001b[39m'\u001b[39m, \u001b[39m'\u001b[39m\u001b[39mpurple\u001b[39m\u001b[39m'\u001b[39m, \u001b[39m'\u001b[39m\u001b[39mblue\u001b[39m\u001b[39m'\u001b[39m, \u001b[39m'\u001b[39m\u001b[39mgreen\u001b[39m\u001b[39m'\u001b[39m, \u001b[39m'\u001b[39m\u001b[39morange\u001b[39m\u001b[39m'\u001b[39m, \u001b[39m'\u001b[39m\u001b[39myellow\u001b[39m\u001b[39m'\u001b[39m]\n\u001b[1;32m----> <a href='file:///d%3A/H3.2/IUH%20Coder/anything/turtle.py?line=2'>3</a>\u001b[0m t \u001b[39m=\u001b[39m turtle\u001b[39m.\u001b[39;49mPen()\n\u001b[0;32m      <a href='file:///d%3A/H3.2/IUH%20Coder/anything/turtle.py?line=3'>4</a>\u001b[0m turtle\u001b[39m.\u001b[39mbgcolor(\u001b[39m'\u001b[39m\u001b[39mblack\u001b[39m\u001b[39m'\u001b[39m)\n\u001b[0;32m      <a href='file:///d%3A/H3.2/IUH%20Coder/anything/turtle.py?line=4'>5</a>\u001b[0m \u001b[39mfor\u001b[39;00m x \u001b[39min\u001b[39;00m \u001b[39mrange\u001b[39m(\u001b[39m360\u001b[39m):\n",
      "\u001b[1;31mAttributeError\u001b[0m: partially initialized module 'turtle' has no attribute 'Pen' (most likely due to a circular import)"
     ]
    }
   ],
   "source": [
    "import turtle\n",
    "polygon = turtle.Turtle()\n",
    " \n",
    "num_sides = 6\n",
    "side_length = 70\n",
    "angle = 360.0 / num_sides\n",
    " \n",
    "for i in range(num_sides):\n",
    "    polygon.forward(side_length)\n",
    "    polygon.right(angle)\n",
    "     \n",
    "turtle.done()"
   ]
  }
 ],
 "metadata": {
  "kernelspec": {
   "display_name": "Python 3.10.4 64-bit (windows store)",
   "language": "python",
   "name": "python3"
  },
  "language_info": {
   "codemirror_mode": {
    "name": "ipython",
    "version": 3
   },
   "file_extension": ".py",
   "mimetype": "text/x-python",
   "name": "python",
   "nbconvert_exporter": "python",
   "pygments_lexer": "ipython3",
   "version": "3.10.4"
  },
  "orig_nbformat": 4,
  "vscode": {
   "interpreter": {
    "hash": "e95bf0e632fc2a094456b7cacd7e4ca2de9fbd943df24e1f695765c02438945e"
   }
  }
 },
 "nbformat": 4,
 "nbformat_minor": 2
}
