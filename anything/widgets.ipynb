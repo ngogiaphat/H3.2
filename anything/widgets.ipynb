{
 "cells": [
  {
   "cell_type": "code",
   "execution_count": 1,
   "metadata": {},
   "outputs": [
    {
     "ename": "ModuleNotFoundError",
     "evalue": "No module named 'ipywidgets'",
     "output_type": "error",
     "traceback": [
      "\u001b[1;31m---------------------------------------------------------------------------\u001b[0m",
      "\u001b[1;31mModuleNotFoundError\u001b[0m                       Traceback (most recent call last)",
      "\u001b[1;32md:\\H3.2\\IUH Coder\\anything\\widgets.ipynb Cell 1'\u001b[0m in \u001b[0;36m<cell line: 1>\u001b[1;34m()\u001b[0m\n\u001b[1;32m----> <a href='vscode-notebook-cell:/d%3A/H3.2/IUH%20Coder/anything/widgets.ipynb#ch0000000?line=0'>1</a>\u001b[0m \u001b[39mimport\u001b[39;00m \u001b[39mipywidgets\u001b[39;00m \u001b[39mas\u001b[39;00m \u001b[39mwidgets\u001b[39;00m\n\u001b[0;32m      <a href='vscode-notebook-cell:/d%3A/H3.2/IUH%20Coder/anything/widgets.ipynb#ch0000000?line=1'>2</a>\u001b[0m widgets\u001b[39m.\u001b[39mIntSlider(\n\u001b[0;32m      <a href='vscode-notebook-cell:/d%3A/H3.2/IUH%20Coder/anything/widgets.ipynb#ch0000000?line=2'>3</a>\u001b[0m     value\u001b[39m=\u001b[39m\u001b[39m7\u001b[39m,\n\u001b[0;32m      <a href='vscode-notebook-cell:/d%3A/H3.2/IUH%20Coder/anything/widgets.ipynb#ch0000000?line=3'>4</a>\u001b[0m     \u001b[39mmin\u001b[39m\u001b[39m=\u001b[39m\u001b[39m0\u001b[39m,\n\u001b[1;32m   (...)\u001b[0m\n\u001b[0;32m     <a href='vscode-notebook-cell:/d%3A/H3.2/IUH%20Coder/anything/widgets.ipynb#ch0000000?line=11'>12</a>\u001b[0m     readout_format\u001b[39m=\u001b[39m\u001b[39m'\u001b[39m\u001b[39md\u001b[39m\u001b[39m'\u001b[39m\n\u001b[0;32m     <a href='vscode-notebook-cell:/d%3A/H3.2/IUH%20Coder/anything/widgets.ipynb#ch0000000?line=12'>13</a>\u001b[0m )\n",
      "\u001b[1;31mModuleNotFoundError\u001b[0m: No module named 'ipywidgets'"
     ]
    }
   ],
   "source": [
    "import ipywidgets as widgets\n",
    "widgets.IntSlider(\n",
    "    value=7,\n",
    "    min=0,\n",
    "    max=10,\n",
    "    step=1,\n",
    "    description='Test:',\n",
    "    disabled=False,\n",
    "    continuous_update=False,\n",
    "    orientation='horizontal',\n",
    "    readout=True,\n",
    "    readout_format='d'\n",
    ")"
   ]
  }
 ],
 "metadata": {
  "kernelspec": {
   "display_name": "Python 3.10.4 64-bit",
   "language": "python",
   "name": "python3"
  },
  "language_info": {
   "codemirror_mode": {
    "name": "ipython",
    "version": 3
   },
   "file_extension": ".py",
   "mimetype": "text/x-python",
   "name": "python",
   "nbconvert_exporter": "python",
   "pygments_lexer": "ipython3",
   "version": "3.10.4"
  },
  "orig_nbformat": 4,
  "vscode": {
   "interpreter": {
    "hash": "f89a6901c0898be621f5bef48f4a38883fc81d86ed5883daf9e30a1fc7fc3d5c"
   }
  }
 },
 "nbformat": 4,
 "nbformat_minor": 2
}
